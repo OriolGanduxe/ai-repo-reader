{
 "cells": [
  {
   "cell_type": "markdown",
   "id": "4c8b926a-7de6-4bde-aac3-eca8db792f38",
   "metadata": {},
   "source": [
    "## Prepare environment"
   ]
  },
  {
   "attachments": {},
   "cell_type": "markdown",
   "id": "4203352d",
   "metadata": {},
   "source": [
    "Open a terminal and run the following commands:\n",
    "```\n",
    "mkdir data\n",
    "```\n",
    "\n",
    "```\n",
    "curl https://www.gutenberg.org/cache/epub/11/pg11.txt > data/001-alice/alice.txt\n",
    "```"
   ]
  },
  {
   "cell_type": "code",
   "execution_count": 10,
   "id": "cd15ce58-d491-4be8-b6d3-f2f5d816c449",
   "metadata": {},
   "outputs": [
    {
     "data": {
      "text/plain": [
       "True"
      ]
     },
     "execution_count": 10,
     "metadata": {},
     "output_type": "execute_result"
    }
   ],
   "source": [
    "from dotenv import load_dotenv\n",
    "load_dotenv()"
   ]
  },
  {
   "cell_type": "markdown",
   "id": "d41ade78-d5ad-4568-b6f3-8984d55dced6",
   "metadata": {
    "tags": []
   },
   "source": [
    "## Load data"
   ]
  },
  {
   "cell_type": "code",
   "execution_count": 25,
   "id": "6b7a87b2-afdb-4a9a-9a5b-b5a30112736e",
   "metadata": {
    "tags": []
   },
   "outputs": [],
   "source": [
    "from langchain.document_loaders import DirectoryLoader\n",
    "\n",
    "def load_docs(directory):\n",
    "  loader = DirectoryLoader(directory)\n",
    "  documents = loader.load()\n",
    "  return documents"
   ]
  },
  {
   "cell_type": "code",
   "execution_count": 26,
   "id": "570a1a16-27ae-41a0-9999-e615ca092f81",
   "metadata": {
    "tags": []
   },
   "outputs": [
    {
     "data": {
      "text/plain": [
       "1"
      ]
     },
     "execution_count": 26,
     "metadata": {},
     "output_type": "execute_result"
    }
   ],
   "source": [
    "dirToLoad = '../data/001-alice'\n",
    "documents = load_docs(dirToLoad)\n",
    "len(documents)"
   ]
  },
  {
   "cell_type": "code",
   "execution_count": null,
   "id": "81b9f770-c9ae-4a92-b4c0-23d1a2aaf999",
   "metadata": {
    "tags": []
   },
   "outputs": [],
   "source": [
    "#import os\n",
    "#import openai\n",
    "#import pinecone\n",
    "#import langchain\n",
    "\n",
    "#from langchain.embeddings.openai import OpenAIEmbeddings\n",
    "#from langchain.vectorstores import Pinecone\n",
    "#from langchain.document_loaders import DirectoryLoader\n",
    "#from langchain.document_loaders import UnstructuredFileLoader\n",
    "\n",
    "#from langchain.chat_models import ChatOpenAI\n",
    "#from langchain.chains.question_answering import load_qa_chain\n"
   ]
  },
  {
   "attachments": {},
   "cell_type": "markdown",
   "id": "04d7cf79",
   "metadata": {},
   "source": [
    "## Split text"
   ]
  },
  {
   "cell_type": "code",
   "execution_count": 27,
   "id": "2a96a437",
   "metadata": {},
   "outputs": [],
   "source": [
    "from langchain.text_splitter import RecursiveCharacterTextSplitter\n",
    "\n",
    "def split_docs(documents, chunk_size=1000, chunk_overlap=20):\n",
    "  text_splitter = RecursiveCharacterTextSplitter(chunk_size=chunk_size, chunk_overlap=chunk_overlap)\n",
    "  texts = text_splitter.split_documents(documents)\n",
    "  return texts\n"
   ]
  },
  {
   "cell_type": "code",
   "execution_count": 28,
   "id": "d1acdb8c-65a2-4530-a04f-596118607039",
   "metadata": {
    "tags": []
   },
   "outputs": [
    {
     "name": "stdout",
     "output_type": "stream",
     "text": [
      "172\n"
     ]
    }
   ],
   "source": [
    "texts = split_docs(documents)\n",
    "print(len(texts))"
   ]
  },
  {
   "attachments": {},
   "cell_type": "markdown",
   "id": "fbd56efd",
   "metadata": {},
   "source": [
    "## Get embeddings"
   ]
  },
  {
   "cell_type": "code",
   "execution_count": 30,
   "id": "a976b99e-cb0a-43a1-a736-5fe6dabb2962",
   "metadata": {
    "tags": []
   },
   "outputs": [],
   "source": [
    "import os\n",
    "from langchain.embeddings import OpenAIEmbeddings\n",
    "embeddings = OpenAIEmbeddings(openai_api_key=os.environ['OPENAI_API_KEY'])"
   ]
  },
  {
   "attachments": {},
   "cell_type": "markdown",
   "id": "b09bf5bc",
   "metadata": {},
   "source": [
    "## Create index"
   ]
  },
  {
   "cell_type": "code",
   "execution_count": 33,
   "id": "ca2e80ad-132f-4fa4-869a-cab441018c97",
   "metadata": {
    "tags": []
   },
   "outputs": [
    {
     "name": "stderr",
     "output_type": "stream",
     "text": [
      "/Users/stephanegarti/.local/share/virtualenvs/ai-repo-reader-dkZZLFMT/lib/python3.10/site-packages/pinecone/index.py:4: TqdmExperimentalWarning: Using `tqdm.autonotebook.tqdm` in notebook mode. Use `tqdm.tqdm` instead to force console mode (e.g. in jupyter console)\n",
      "  from tqdm.autonotebook import tqdm\n"
     ]
    }
   ],
   "source": [
    "import pinecone\n",
    "\n",
    "pinecone.init(\n",
    "    api_key=os.getenv('PINECODE_API_KEY'),\n",
    "    environment=os.getenv('PINECODE_ENVIRONMENT')\n",
    ")"
   ]
  },
  {
   "cell_type": "code",
   "execution_count": 40,
   "id": "250841b6-650d-4942-8969-2d880e1f7c0b",
   "metadata": {
    "tags": []
   },
   "outputs": [
    {
     "name": "stdout",
     "output_type": "stream",
     "text": [
      "['ai-repo-reader-1']\n"
     ]
    }
   ],
   "source": [
    "print(pinecone.list_indexes())"
   ]
  },
  {
   "cell_type": "code",
   "execution_count": 41,
   "id": "11254a63-cfd6-480d-acc4-ed489dff0037",
   "metadata": {},
   "outputs": [],
   "source": [
    "index_name = \"ai-repo-reader-1\""
   ]
  },
  {
   "cell_type": "code",
   "execution_count": 42,
   "id": "c829f5ba-663c-4f3c-af28-34e83ed25fbf",
   "metadata": {
    "tags": []
   },
   "outputs": [],
   "source": [
    "pinecone.delete_index(index_name)"
   ]
  },
  {
   "cell_type": "code",
   "execution_count": 43,
   "id": "a0b4738b-f8b3-45cf-99a4-4b2711152b6a",
   "metadata": {
    "tags": []
   },
   "outputs": [],
   "source": [
    "pinecone.create_index(index_name, dimension=1536)"
   ]
  },
  {
   "attachments": {},
   "cell_type": "markdown",
   "id": "64232933",
   "metadata": {},
   "source": [
    "## Search"
   ]
  },
  {
   "cell_type": "code",
   "execution_count": 44,
   "id": "340afc01-7e34-4e3a-897f-106b74b85804",
   "metadata": {
    "tags": []
   },
   "outputs": [],
   "source": [
    "from langchain.vectorstores import Pinecone\n",
    "docsearch = Pinecone.from_texts([t.page_content for t in texts], embeddings, index_name=index_name)"
   ]
  },
  {
   "cell_type": "code",
   "execution_count": 45,
   "id": "f2b802e6-bbd6-4f31-b8bc-f05626610da9",
   "metadata": {
    "tags": []
   },
   "outputs": [],
   "source": [
    "from langchain.llms import OpenAI\n",
    "from langchain.chains.question_answering import load_qa_chain\n",
    "\n",
    "llm = OpenAI(temperature=0, openai_api_key=os.environ['OPENAI_API_KEY'])\n",
    "chain = load_qa_chain(llm, chain_type=\"stuff\")"
   ]
  },
  {
   "cell_type": "code",
   "execution_count": 46,
   "id": "18ed3be2-ba56-42a5-870a-ad7f202c0bc1",
   "metadata": {
    "tags": []
   },
   "outputs": [
    {
     "data": {
      "text/plain": [
       "' Alice found a very small banana with the words \"EAT ME\" marked on it in currants.'"
      ]
     },
     "execution_count": 46,
     "metadata": {},
     "output_type": "execute_result"
    }
   ],
   "source": [
    "query = \"What did Alice found in the little glass box?\"\n",
    "docs = docsearch.similarity_search(query, include_metadata=True)\n",
    "chain.run(input_documents=docs, question=query)"
   ]
  },
  {
   "cell_type": "code",
   "execution_count": null,
   "id": "57ee221d",
   "metadata": {},
   "outputs": [],
   "source": []
  }
 ],
 "metadata": {
  "kernelspec": {
   "display_name": "Python 3 (ipykernel)",
   "language": "python",
   "name": "python3"
  },
  "language_info": {
   "codemirror_mode": {
    "name": "ipython",
    "version": 3
   },
   "file_extension": ".py",
   "mimetype": "text/x-python",
   "name": "python",
   "nbconvert_exporter": "python",
   "pygments_lexer": "ipython3",
   "version": "3.10.9"
  }
 },
 "nbformat": 4,
 "nbformat_minor": 5
}
