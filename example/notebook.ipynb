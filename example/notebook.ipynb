{
 "cells": [
  {
   "cell_type": "markdown",
   "id": "4c8b926a-7de6-4bde-aac3-eca8db792f38",
   "metadata": {},
   "source": [
    "## Prepare environment"
   ]
  },
  {
   "attachments": {},
   "cell_type": "markdown",
   "id": "4203352d",
   "metadata": {},
   "source": [
    "Open a terminal and run the following commands:\n",
    "```\n",
    "mkdir data\n",
    "```\n",
    "\n",
    "```\n",
    "curl https://www.gutenberg.org/cache/epub/11/pg11.txt > data/001-alice/alice.txt\n",
    "```"
   ]
  },
  {
   "cell_type": "code",
   "execution_count": null,
   "id": "a92db7e0",
   "metadata": {},
   "outputs": [],
   "source": [
    "!pip install python-dotenv"
   ]
  },
  {
   "cell_type": "code",
   "execution_count": null,
   "id": "cd15ce58-d491-4be8-b6d3-f2f5d816c449",
   "metadata": {},
   "outputs": [],
   "source": [
    "from dotenv import load_dotenv\n",
    "load_dotenv()"
   ]
  },
  {
   "cell_type": "markdown",
   "id": "d41ade78-d5ad-4568-b6f3-8984d55dced6",
   "metadata": {
    "tags": []
   },
   "source": [
    "## Load data"
   ]
  },
  {
   "cell_type": "code",
   "execution_count": null,
   "id": "dab4226d",
   "metadata": {},
   "outputs": [],
   "source": [
    "!pip install langchain\n",
    "!pip install unstructured"
   ]
  },
  {
   "cell_type": "code",
   "execution_count": null,
   "id": "6b7a87b2-afdb-4a9a-9a5b-b5a30112736e",
   "metadata": {
    "tags": []
   },
   "outputs": [],
   "source": [
    "from langchain.document_loaders import DirectoryLoader\n",
    "\n",
    "def load_docs(directory):\n",
    "  loader = DirectoryLoader(directory)\n",
    "  documents = loader.load()\n",
    "  return documents"
   ]
  },
  {
   "cell_type": "code",
   "execution_count": null,
   "id": "570a1a16-27ae-41a0-9999-e615ca092f81",
   "metadata": {
    "tags": []
   },
   "outputs": [],
   "source": [
    "dirToLoad = '../data/001-alice'\n",
    "documents = load_docs(dirToLoad)\n",
    "len(documents)"
   ]
  },
  {
   "attachments": {},
   "cell_type": "markdown",
   "id": "04d7cf79",
   "metadata": {},
   "source": [
    "## Split text"
   ]
  },
  {
   "cell_type": "code",
   "execution_count": null,
   "id": "2a96a437",
   "metadata": {},
   "outputs": [],
   "source": [
    "from langchain.text_splitter import RecursiveCharacterTextSplitter\n",
    "\n",
    "def split_docs(documents, chunk_size=1000, chunk_overlap=20):\n",
    "  text_splitter = RecursiveCharacterTextSplitter(chunk_size=chunk_size, chunk_overlap=chunk_overlap)\n",
    "  texts = text_splitter.split_documents(documents)\n",
    "  return texts\n"
   ]
  },
  {
   "cell_type": "code",
   "execution_count": null,
   "id": "d1acdb8c-65a2-4530-a04f-596118607039",
   "metadata": {
    "tags": []
   },
   "outputs": [],
   "source": [
    "texts = split_docs(documents)\n",
    "print(len(texts))"
   ]
  },
  {
   "attachments": {},
   "cell_type": "markdown",
   "id": "fbd56efd",
   "metadata": {},
   "source": [
    "## Get embeddings"
   ]
  },
  {
   "cell_type": "code",
   "execution_count": null,
   "id": "b1021be4",
   "metadata": {},
   "outputs": [],
   "source": [
    "!pip install openai"
   ]
  },
  {
   "cell_type": "code",
   "execution_count": null,
   "id": "a976b99e-cb0a-43a1-a736-5fe6dabb2962",
   "metadata": {
    "tags": []
   },
   "outputs": [],
   "source": [
    "import os\n",
    "from langchain.embeddings import OpenAIEmbeddings\n",
    "embeddings = OpenAIEmbeddings(openai_api_key=os.environ['OPENAI_API_KEY'])"
   ]
  },
  {
   "attachments": {},
   "cell_type": "markdown",
   "id": "b09bf5bc",
   "metadata": {},
   "source": [
    "## Init ChromaDB"
   ]
  },
  {
   "cell_type": "code",
   "execution_count": null,
   "id": "ca2e80ad-132f-4fa4-869a-cab441018c97",
   "metadata": {
    "tags": []
   },
   "outputs": [],
   "source": [
    "!pip install chromadb"
   ]
  },
  {
   "cell_type": "code",
   "execution_count": null,
   "id": "250841b6-650d-4942-8969-2d880e1f7c0b",
   "metadata": {
    "tags": []
   },
   "outputs": [],
   "source": [
    "from langchain.vectorstores import Chroma\n",
    "\n",
    "vectordb = Chroma.from_documents(texts, embeddings)"
   ]
  },
  {
   "attachments": {},
   "cell_type": "markdown",
   "id": "67c6934f",
   "metadata": {},
   "source": [
    "## Create the chain"
   ]
  },
  {
   "cell_type": "code",
   "execution_count": null,
   "id": "62f56e07",
   "metadata": {},
   "outputs": [],
   "source": [
    "from langchain.llms import OpenAI\n",
    "from langchain.chains import VectorDBQA\n",
    "\n",
    "qa = VectorDBQA.from_chain_type(llm=OpenAI(), chain_type=\"stuff\", vectorstore=vectordb)"
   ]
  },
  {
   "cell_type": "code",
   "execution_count": null,
   "id": "18ed3be2-ba56-42a5-870a-ad7f202c0bc1",
   "metadata": {
    "tags": []
   },
   "outputs": [],
   "source": [
    "query = \"What did Alice found in the little glass box?\"\n",
    "qa.run(query)"
   ]
  },
  {
   "cell_type": "code",
   "execution_count": null,
   "id": "0cc4c5a6",
   "metadata": {},
   "outputs": [],
   "source": []
  }
 ],
 "metadata": {
  "kernelspec": {
   "display_name": "Python 3 (ipykernel)",
   "language": "python",
   "name": "python3"
  },
  "language_info": {
   "codemirror_mode": {
    "name": "ipython",
    "version": 3
   },
   "file_extension": ".py",
   "mimetype": "text/x-python",
   "name": "python",
   "nbconvert_exporter": "python",
   "pygments_lexer": "ipython3",
   "version": "3.10.9"
  }
 },
 "nbformat": 4,
 "nbformat_minor": 5
}
