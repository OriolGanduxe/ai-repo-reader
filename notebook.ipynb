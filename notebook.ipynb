{
 "cells": [
  {
   "cell_type": "code",
   "execution_count": null,
   "id": "81b9f770-c9ae-4a92-b4c0-23d1a2aaf999",
   "metadata": {
    "tags": []
   },
   "outputs": [],
   "source": [
    "import os\n",
    "import openai\n",
    "import pinecone\n",
    "import langchain\n",
    "from langchain.embeddings import OpenAIEmbeddings\n",
    "from langchain.embeddings.openai import OpenAIEmbeddings\n",
    "from langchain.vectorstores import Pinecone\n",
    "from langchain.document_loaders import DirectoryLoader\n",
    "from langchain.document_loaders import UnstructuredFileLoader\n",
    "from langchain.text_splitter import RecursiveCharacterTextSplitter\n",
    "from langchain.chat_models import ChatOpenAI\n",
    "from langchain.chains.question_answering import load_qa_chain\n",
    "\n",
    "from dotenv import load_dotenv\n",
    "load_dotenv()"
   ]
  },
  {
   "cell_type": "code",
   "execution_count": null,
   "id": "098a34c5-d15e-4804-acc6-0824d75050f2",
   "metadata": {
    "tags": []
   },
   "outputs": [],
   "source": [
    "def load_docs(directory):\n",
    "  loader = DirectoryLoader(directory)\n",
    "  documents = loader.load()\n",
    "  return documents"
   ]
  },
  {
   "cell_type": "code",
   "execution_count": null,
   "id": "7a958fc4",
   "metadata": {
    "tags": []
   },
   "outputs": [],
   "source": [
    "dirToLoad = 'data/ios-example-lt64kB'\n",
    "documents = load_docs(dirToLoad)\n",
    "len(documents)"
   ]
  },
  {
   "cell_type": "code",
   "execution_count": null,
   "id": "d1acdb8c-65a2-4530-a04f-596118607039",
   "metadata": {
    "tags": []
   },
   "outputs": [],
   "source": [
    "# Splitting text\n",
    "def split_docs(documents, chunk_size=1000, chunk_overlap=20):\n",
    "  text_splitter = RecursiveCharacterTextSplitter(chunk_size=chunk_size, chunk_overlap=chunk_overlap)\n",
    "  texts = text_splitter.split_documents(documents)\n",
    "  return texts\n",
    "\n",
    "texts = split_docs(documents)\n",
    "print(len(texts))"
   ]
  },
  {
   "cell_type": "code",
   "execution_count": null,
   "id": "a976b99e-cb0a-43a1-a736-5fe6dabb2962",
   "metadata": {
    "tags": []
   },
   "outputs": [],
   "source": [
    "# Getting embeddings\n",
    "embeddings = OpenAIEmbeddings(openai_api_key=os.environ['OPENAI_API_KEY'])"
   ]
  },
  {
   "cell_type": "code",
   "execution_count": null,
   "id": "ca2e80ad-132f-4fa4-869a-cab441018c97",
   "metadata": {
    "tags": []
   },
   "outputs": [],
   "source": [
    "pinecone.init(\n",
    "    api_key=os.getenv('PINECODE_API_KEY'),\n",
    "    environment=os.getenv('PINECODE_ENVIRONMENT')\n",
    ")"
   ]
  },
  {
   "cell_type": "code",
   "execution_count": null,
   "id": "250841b6-650d-4942-8969-2d880e1f7c0b",
   "metadata": {
    "tags": []
   },
   "outputs": [],
   "source": [
    "print(pinecone.list_indexes())"
   ]
  },
  {
   "cell_type": "code",
   "execution_count": null,
   "id": "11254a63-cfd6-480d-acc4-ed489dff0037",
   "metadata": {},
   "outputs": [],
   "source": [
    "index_name = \"ai-repo-reader-1\""
   ]
  },
  {
   "cell_type": "code",
   "execution_count": null,
   "id": "c829f5ba-663c-4f3c-af28-34e83ed25fbf",
   "metadata": {
    "tags": []
   },
   "outputs": [],
   "source": [
    "if index_name in pinecone.list_indexes():\n",
    "    pinecone.delete_index(index_name)"
   ]
  },
  {
   "cell_type": "code",
   "execution_count": null,
   "id": "a0b4738b-f8b3-45cf-99a4-4b2711152b6a",
   "metadata": {
    "tags": []
   },
   "outputs": [],
   "source": [
    "pinecone.create_index(index_name, dimension=1536)"
   ]
  },
  {
   "cell_type": "code",
   "execution_count": null,
   "id": "340afc01-7e34-4e3a-897f-106b74b85804",
   "metadata": {
    "tags": []
   },
   "outputs": [],
   "source": [
    "docsearch = Pinecone.from_texts([t.page_content for t in texts], embeddings, index_name=index_name)"
   ]
  },
  {
   "cell_type": "code",
   "execution_count": null,
   "id": "f2b802e6-bbd6-4f31-b8bc-f05626610da9",
   "metadata": {
    "tags": []
   },
   "outputs": [],
   "source": [
    "from langchain.llms import OpenAI\n",
    "from langchain.chains.question_answering import load_qa_chain\n",
    "\n",
    "llm = OpenAI(temperature=0, openai_api_key=os.environ['OPENAI_API_KEY'])\n",
    "chain = load_qa_chain(llm, chain_type=\"stuff\")"
   ]
  },
  {
   "cell_type": "code",
   "execution_count": null,
   "id": "18ed3be2-ba56-42a5-870a-ad7f202c0bc1",
   "metadata": {
    "tags": []
   },
   "outputs": [],
   "source": [
    "query = \"What did Alice found in the little glass box?\"\n",
    "docs = docsearch.similarity_search(query, include_metadata=True)\n",
    "chain.run(input_documents=docs, question=query)"
   ]
  }
 ],
 "metadata": {
  "kernelspec": {
   "display_name": "Python 3 (ipykernel)",
   "language": "python",
   "name": "python3"
  },
  "language_info": {
   "codemirror_mode": {
    "name": "ipython",
    "version": 3
   },
   "file_extension": ".py",
   "mimetype": "text/x-python",
   "name": "python",
   "nbconvert_exporter": "python",
   "pygments_lexer": "ipython3",
   "version": "3.10.9"
  }
 },
 "nbformat": 4,
 "nbformat_minor": 5
}
