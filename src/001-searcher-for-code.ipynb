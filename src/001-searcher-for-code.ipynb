{
 "cells": [
  {
   "cell_type": "markdown",
   "id": "dd963764-3f3f-4bb8-8ff5-15c2f1e1e198",
   "metadata": {},
   "source": [
    "## Prepare environment"
   ]
  },
  {
   "cell_type": "code",
   "execution_count": null,
   "id": "374fc93d-eac3-4df3-acf1-87f39a5dc813",
   "metadata": {
    "tags": []
   },
   "outputs": [],
   "source": [
    "from dotenv import load_dotenv\n",
    "load_dotenv()"
   ]
  },
  {
   "cell_type": "markdown",
   "id": "3d1881d7-e0b1-40ff-9905-64507e89abb9",
   "metadata": {
    "tags": []
   },
   "source": [
    "## Load data"
   ]
  },
  {
   "cell_type": "code",
   "execution_count": null,
   "id": "10c28db0-968b-4680-8d3d-3b1f0ad574ab",
   "metadata": {
    "tags": []
   },
   "outputs": [],
   "source": [
    "!pip install GitPython"
   ]
  },
  {
   "cell_type": "code",
   "execution_count": null,
   "id": "cf24e111-dad4-4e08-b2cc-978571c1cf35",
   "metadata": {
    "tags": []
   },
   "outputs": [],
   "source": [
    "from langchain.document_loaders import GitLoader # https://python.langchain.com/en/latest/modules/indexes/document_loaders/examples/git.html"
   ]
  },
  {
   "cell_type": "code",
   "execution_count": null,
   "id": "670cdcbe-c4eb-48e7-90f9-f7bf32a00698",
   "metadata": {
    "tags": []
   },
   "outputs": [],
   "source": [
    "loader = GitLoader(repo_path=\"./data/ios-example-lt64kB/TuningFork\", branch=\"master\", file_filter=lambda file_path: file_path.endswith(\".swift\") or file_path.endswith(\".h\") or file_path.endswith(\".m\"))"
   ]
  },
  {
   "cell_type": "code",
   "execution_count": null,
   "id": "d9e59f51-9eed-4d2e-9102-8a5d546eb7a4",
   "metadata": {
    "tags": []
   },
   "outputs": [],
   "source": [
    "data = loader.load()"
   ]
  },
  {
   "cell_type": "code",
   "execution_count": null,
   "id": "806e9f74-8ca7-40f0-9da1-41ddcee52f0c",
   "metadata": {
    "tags": []
   },
   "outputs": [],
   "source": [
    "len(data)"
   ]
  },
  {
   "cell_type": "markdown",
   "id": "5191d1b9-3bff-4786-b3f8-e418ea6d8f3e",
   "metadata": {},
   "source": [
    "## Split text"
   ]
  },
  {
   "cell_type": "code",
   "execution_count": null,
   "id": "c58f3da5-90ed-47ab-b4a1-341b7218df53",
   "metadata": {
    "tags": []
   },
   "outputs": [],
   "source": [
    "from langchain.text_splitter import RecursiveCharacterTextSplitter\n",
    "\n",
    "def split_docs(documents, chunk_size=1000, chunk_overlap=20):\n",
    "  text_splitter = RecursiveCharacterTextSplitter(chunk_size=chunk_size, chunk_overlap=chunk_overlap)\n",
    "  texts = text_splitter.split_documents(documents)\n",
    "  return texts\n",
    "\n",
    "texts = split_docs(data)\n",
    "print(len(texts))"
   ]
  },
  {
   "cell_type": "markdown",
   "id": "dd89e4c0-6129-4e0f-a6ee-27d91fde534f",
   "metadata": {},
   "source": [
    "## Get embeddings"
   ]
  },
  {
   "cell_type": "code",
   "execution_count": null,
   "id": "0123c6dd-b552-4a7f-9807-517767961b81",
   "metadata": {
    "tags": []
   },
   "outputs": [],
   "source": [
    "import os\n",
    "from langchain.embeddings import OpenAIEmbeddings"
   ]
  },
  {
   "cell_type": "code",
   "execution_count": null,
   "id": "981e24b1-0d52-4f25-9540-822d48a5db2d",
   "metadata": {
    "tags": []
   },
   "outputs": [],
   "source": [
    "embeddings = OpenAIEmbeddings(openai_api_key=os.environ['OPENAI_API_KEY'])"
   ]
  },
  {
   "cell_type": "code",
   "execution_count": null,
   "id": "bc00f871-6d38-4096-92ed-e5eb23309619",
   "metadata": {
    "tags": []
   },
   "outputs": [],
   "source": [
    "print(embeddings)"
   ]
  },
  {
   "cell_type": "markdown",
   "id": "c1d197b0-3243-49a8-a199-aef86769ae57",
   "metadata": {},
   "source": [
    "## Create index"
   ]
  },
  {
   "cell_type": "code",
   "execution_count": null,
   "id": "8d05613c-54b9-4704-8b3b-cd19d2a6c8ab",
   "metadata": {
    "tags": []
   },
   "outputs": [],
   "source": [
    "import pinecone"
   ]
  },
  {
   "cell_type": "code",
   "execution_count": null,
   "id": "cf0ad5fe-7294-4c7d-ab57-db9c46c0ce32",
   "metadata": {
    "tags": []
   },
   "outputs": [],
   "source": [
    "pinecone.init(\n",
    "    api_key=os.getenv('PINECODE_API_KEY'),\n",
    "    environment=os.getenv('PINECODE_ENVIRONMENT')\n",
    ")"
   ]
  },
  {
   "cell_type": "code",
   "execution_count": null,
   "id": "76015061-70bb-4f5f-81ea-d843b16f668e",
   "metadata": {
    "tags": []
   },
   "outputs": [],
   "source": [
    "# Check existing indexes\n",
    "print(pinecone.list_indexes())"
   ]
  },
  {
   "cell_type": "code",
   "execution_count": null,
   "id": "534a431e-e414-41c5-8a09-161e8dcab15b",
   "metadata": {
    "tags": []
   },
   "outputs": [],
   "source": [
    "index_name = \"ai-repo-reader-1\""
   ]
  },
  {
   "cell_type": "code",
   "execution_count": null,
   "id": "223e5a35-248b-4d64-b92c-8b75324e739b",
   "metadata": {},
   "outputs": [],
   "source": [
    "# Clean up previous index before creating new one\n",
    "pinecone.delete_index(index_name)"
   ]
  },
  {
   "cell_type": "code",
   "execution_count": null,
   "id": "a3b31337-6ac3-4f4d-bbff-f7f299f8cdbd",
   "metadata": {},
   "outputs": [],
   "source": [
    "pinecone.create_index(index_name, dimension=1536)"
   ]
  },
  {
   "cell_type": "code",
   "execution_count": null,
   "id": "80166f46-ff8e-4b0c-b2f4-cd8cd2f0d85c",
   "metadata": {
    "tags": []
   },
   "outputs": [],
   "source": [
    "from langchain.vectorstores import Pinecone\n",
    "docsearch = Pinecone.from_texts([t.page_content for t in texts], embeddings, index_name=index_name)"
   ]
  },
  {
   "cell_type": "code",
   "execution_count": null,
   "id": "5be3a213-3f37-4fb5-860f-6016e67ee406",
   "metadata": {
    "tags": []
   },
   "outputs": [],
   "source": [
    "from langchain.llms import OpenAI\n",
    "from langchain.chains.question_answering import load_qa_chain\n",
    "\n",
    "llm = OpenAI(temperature=0, openai_api_key=os.environ['OPENAI_API_KEY'])\n",
    "chain = load_qa_chain(llm, chain_type=\"stuff\")"
   ]
  },
  {
   "cell_type": "code",
   "execution_count": null,
   "id": "5bb1855c-126e-4bc2-bca4-28bad82ef237",
   "metadata": {
    "tags": []
   },
   "outputs": [],
   "source": [
    "query = \"What does the Tuner class do?\"\n",
    "docs = docsearch.similarity_search(query, include_metadata=True)\n",
    "chain.run(input_documents=docs, question=query)"
   ]
  },
  {
   "cell_type": "code",
   "execution_count": null,
   "id": "7ddb71bc-6e62-40f4-827b-f75e0b1f72b4",
   "metadata": {
    "tags": []
   },
   "outputs": [],
   "source": [
    "print(docs[2].page_content)"
   ]
  },
  {
   "cell_type": "code",
   "execution_count": null,
   "id": "6f9eee20-9929-4e76-9d5c-81a5517da889",
   "metadata": {
    "tags": []
   },
   "outputs": [],
   "source": [
    "query = \"How to use the device's microphone to interpret frequency?\"\n",
    "docs = docsearch.similarity_search(query, include_metadata=True)\n",
    "chain.run(input_documents=docs, question=query)"
   ]
  },
  {
   "cell_type": "code",
   "execution_count": null,
   "id": "7d570bb1-c046-4f3d-9c86-abc1acf2bc06",
   "metadata": {},
   "outputs": [],
   "source": [
    "query = \"What does the delegate of the Tuner class do?\"\n",
    "docs = docsearch.similarity_search(query, include_metadata=True)\n",
    "chain.run(input_documents=docs, question=query)"
   ]
  },
  {
   "cell_type": "code",
   "execution_count": null,
   "id": "153364a3-c850-4226-aba3-fb468d6f4efc",
   "metadata": {},
   "outputs": [],
   "source": [
    "print(docs[0].page_content)"
   ]
  },
  {
   "cell_type": "code",
   "execution_count": null,
   "id": "1925d646-6b19-47f8-a754-03a00192368c",
   "metadata": {},
   "outputs": [],
   "source": [
    "query = \"Show me all code extracts where AKFrequencyTracker is used\"\n",
    "docs = docsearch.similarity_search(query, include_metadata=True)\n",
    "chain.run(input_documents=docs, question=query)"
   ]
  },
  {
   "cell_type": "code",
   "execution_count": null,
   "id": "ea6ec0a6-ee14-4dca-812d-e8de7ca30d13",
   "metadata": {
    "tags": []
   },
   "outputs": [],
   "source": [
    "print(docs[0].page_content)"
   ]
  },
  {
   "cell_type": "code",
   "execution_count": null,
   "id": "290b53ff-81ae-493c-b082-d67a1f6145bc",
   "metadata": {},
   "outputs": [],
   "source": []
  }
 ],
 "metadata": {
  "kernelspec": {
   "display_name": "Python 3 (ipykernel)",
   "language": "python",
   "name": "python3"
  },
  "language_info": {
   "codemirror_mode": {
    "name": "ipython",
    "version": 3
   },
   "file_extension": ".py",
   "mimetype": "text/x-python",
   "name": "python",
   "nbconvert_exporter": "python",
   "pygments_lexer": "ipython3",
   "version": "3.10.9"
  }
 },
 "nbformat": 4,
 "nbformat_minor": 5
}
