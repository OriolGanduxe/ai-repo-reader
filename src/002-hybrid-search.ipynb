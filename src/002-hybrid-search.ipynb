{
 "cells": [
  {
   "cell_type": "markdown",
   "id": "a68d35b0-fea5-49af-8b0a-7aed7a1bd39a",
   "metadata": {},
   "source": [
    "# Hybrid search\n",
    "- What is Hybrid Search?\n",
    "    - Hybrid search is about perform semantic and keyword search over the data in one query and combine the results for more relevant results.\n",
    "    - Here is the workflow :\n",
    "        - Create dense vectors using an external embedding model.\n",
    "        - Create sparse vectors using an external model.\n",
    "        - Create an index that supports sparse-dense vectors (s1 or p1 with the dotproduct metric).\n",
    "        - Upsert dense and sparse vectors to your index.\n",
    "        - Search the index using sparse-dense vectors.\n",
    "        - Pinecone returns sparse-dense vectors.\n",
    "        \n",
    "### Read further\n",
    "- https://python.langchain.com/en/latest/modules/indexes/retrievers/examples/pinecone_hybrid_search.html\n",
    "- https://docs.pinecone.io/docs/hybrid-search"
   ]
  },
  {
   "cell_type": "markdown",
   "id": "cb3edc05-f4b2-4920-9c52-ca7839a5ba48",
   "metadata": {},
   "source": [
    "## Prepare environment"
   ]
  },
  {
   "cell_type": "code",
   "execution_count": null,
   "id": "7f9c7468",
   "metadata": {},
   "outputs": [],
   "source": [
    "%pip install python-dotenv"
   ]
  },
  {
   "cell_type": "code",
   "execution_count": 23,
   "id": "3e269b0c",
   "metadata": {},
   "outputs": [],
   "source": [
    "import os\n",
    "from pathlib import Path\n",
    "path_dir_script = Path(os.getcwd())\n",
    "path_dir_root = path_dir_script.parent"
   ]
  },
  {
   "cell_type": "code",
   "execution_count": null,
   "id": "0d5e3f51",
   "metadata": {},
   "outputs": [
    {
     "data": {
      "text/plain": [
       "True"
      ]
     },
     "metadata": {},
     "output_type": "display_data"
    }
   ],
   "source": [
    "from dotenv import load_dotenv, find_dotenv\n",
    "path_file_dotenv = Path(path_dir_root, '.env')\n",
    "load_dotenv(path_file_dotenv)"
   ]
  },
  {
   "cell_type": "markdown",
   "id": "d7cd8f9b-1f76-4442-9dcc-f84287e20880",
   "metadata": {
    "tags": []
   },
   "source": [
    "## Load data"
   ]
  },
  {
   "cell_type": "code",
   "execution_count": 86,
   "id": "7dcb1354-159c-4838-a333-a75d09b8c432",
   "metadata": {
    "tags": []
   },
   "outputs": [
    {
     "name": "stdout",
     "output_type": "stream",
     "text": [
      "Requirement already satisfied: GitPython in /Users/stephanegarti/.local/share/virtualenvs/ai-repo-reader-dkZZLFMT/lib/python3.10/site-packages (3.1.31)\n",
      "Requirement already satisfied: gitdb<5,>=4.0.1 in /Users/stephanegarti/.local/share/virtualenvs/ai-repo-reader-dkZZLFMT/lib/python3.10/site-packages (from GitPython) (4.0.10)\n",
      "Requirement already satisfied: smmap<6,>=3.0.1 in /Users/stephanegarti/.local/share/virtualenvs/ai-repo-reader-dkZZLFMT/lib/python3.10/site-packages (from gitdb<5,>=4.0.1->GitPython) (5.0.0)\n"
     ]
    }
   ],
   "source": [
    "!pip install GitPython"
   ]
  },
  {
   "cell_type": "code",
   "execution_count": 87,
   "id": "f228e008-de3f-47bc-82dc-2859e7bb5124",
   "metadata": {
    "tags": []
   },
   "outputs": [],
   "source": [
    "from langchain.document_loaders import GitLoader # https://python.langchain.com/en/latest/modules/indexes/document_loaders/examples/git.html\n",
    "import os"
   ]
  },
  {
   "cell_type": "code",
   "execution_count": 88,
   "id": "4163f722-af58-45cd-93f3-e0127613ddfc",
   "metadata": {
    "tags": []
   },
   "outputs": [],
   "source": [
    "loader = GitLoader(\n",
    "    repo_path=os.environ['PATH_CODE_REPO_1'],\n",
    "    branch=\"master\", \n",
    "    file_filter=lambda file_path: file_path.endswith(\".swift\") or file_path.endswith(\".h\") or file_path.endswith(\".m\")\n",
    ")"
   ]
  },
  {
   "cell_type": "code",
   "execution_count": 89,
   "id": "6295f696-080f-4c29-8a5f-5f24801fa03d",
   "metadata": {
    "tags": []
   },
   "outputs": [],
   "source": [
    "data = loader.load()"
   ]
  },
  {
   "cell_type": "code",
   "execution_count": 90,
   "id": "2b1a61fd-c758-4a38-b2d4-187d142af724",
   "metadata": {
    "tags": []
   },
   "outputs": [
    {
     "data": {
      "text/plain": [
       "3"
      ]
     },
     "execution_count": 90,
     "metadata": {},
     "output_type": "execute_result"
    }
   ],
   "source": [
    "len(data)"
   ]
  },
  {
   "cell_type": "markdown",
   "id": "3125b973-0a58-4641-b653-2f5d762b5d53",
   "metadata": {},
   "source": [
    "## Split text"
   ]
  },
  {
   "cell_type": "code",
   "execution_count": 91,
   "id": "2e1662f1-fc62-4ad4-b092-e323182e5dca",
   "metadata": {
    "tags": []
   },
   "outputs": [
    {
     "name": "stdout",
     "output_type": "stream",
     "text": [
      "17\n"
     ]
    }
   ],
   "source": [
    "from langchain.text_splitter import RecursiveCharacterTextSplitter\n",
    "\n",
    "def split_docs(documents, chunk_size=1000, chunk_overlap=20):\n",
    "  text_splitter = RecursiveCharacterTextSplitter(chunk_size=chunk_size, chunk_overlap=chunk_overlap)\n",
    "  texts = text_splitter.split_documents(documents)\n",
    "  return texts\n",
    "\n",
    "texts = split_docs(data)\n",
    "print(len(texts))"
   ]
  },
  {
   "cell_type": "markdown",
   "id": "773b305a-dfc2-4016-bcca-2164484e33e7",
   "metadata": {},
   "source": [
    "## Create index"
   ]
  },
  {
   "cell_type": "code",
   "execution_count": 95,
   "id": "85204205-0d0b-4950-8f7e-184654be0dfa",
   "metadata": {
    "tags": []
   },
   "outputs": [],
   "source": [
    "import pinecone"
   ]
  },
  {
   "cell_type": "code",
   "execution_count": 96,
   "id": "23e5cb62-1b4d-4f1e-a6cc-2ddf07e7de42",
   "metadata": {
    "tags": []
   },
   "outputs": [],
   "source": [
    "pinecone.init(\n",
    "    api_key=os.getenv('PINECODE_API_KEY'),\n",
    "    environment=os.getenv('PINECODE_ENVIRONMENT')\n",
    ")"
   ]
  },
  {
   "cell_type": "code",
   "execution_count": 97,
   "id": "ccaebe67-1d71-4e96-b552-ea8643e2fb1c",
   "metadata": {
    "tags": []
   },
   "outputs": [
    {
     "name": "stdout",
     "output_type": "stream",
     "text": [
      "['ai-repo-reader-1']\n"
     ]
    }
   ],
   "source": [
    "# Check existing indexes\n",
    "print(pinecone.list_indexes())"
   ]
  },
  {
   "cell_type": "code",
   "execution_count": 98,
   "id": "7751d999-7db6-42a5-addc-eaff6f032a93",
   "metadata": {
    "tags": []
   },
   "outputs": [],
   "source": [
    "index_name = \"ai-repo-reader-1\""
   ]
  },
  {
   "cell_type": "code",
   "execution_count": 99,
   "id": "57567011-7a64-40ac-80b6-48f6a226dc95",
   "metadata": {},
   "outputs": [],
   "source": [
    "# Clean up previous index before creating new one\n",
    "pinecone.delete_index(index_name)"
   ]
  },
  {
   "cell_type": "code",
   "execution_count": 100,
   "id": "8d71b611-289f-4f7a-ad32-18cc003e60f5",
   "metadata": {},
   "outputs": [],
   "source": [
    "# Note: it’s important to make sure that the “context” field that holds the document text in the metadata is not indexed. \n",
    "# Currently you need to specify explicitly the fields you do want to index. For more information checkout Pinecone’s docs.\n",
    "pinecone.create_index(\n",
    "    name = index_name, \n",
    "    dimension = 1536, # dimensionality of dense model\n",
    "    metric = \"dotproduct\", # sparse vqlues supported only for dotproduct\n",
    "    pod_type = \"s1\",\n",
    "    metadata_config={\"indexed\": []}\n",
    ")"
   ]
  },
  {
   "cell_type": "code",
   "execution_count": 101,
   "id": "0ae4b241-8063-4374-b983-498f6261c576",
   "metadata": {
    "tags": []
   },
   "outputs": [],
   "source": [
    "index = pinecone.Index(index_name)"
   ]
  },
  {
   "cell_type": "markdown",
   "id": "817d13f6-4ba0-4127-9884-00683f075c0c",
   "metadata": {
    "tags": []
   },
   "source": [
    "## Get embeddings"
   ]
  },
  {
   "cell_type": "code",
   "execution_count": 102,
   "id": "8452160b-9685-445d-a255-d97ff9d1eb95",
   "metadata": {
    "tags": []
   },
   "outputs": [],
   "source": [
    "import os\n",
    "from langchain.embeddings import OpenAIEmbeddings"
   ]
  },
  {
   "cell_type": "code",
   "execution_count": 103,
   "id": "86192584-8831-4b59-abda-19375882d249",
   "metadata": {
    "tags": []
   },
   "outputs": [],
   "source": [
    "embeddings = OpenAIEmbeddings(openai_api_key=os.environ['OPENAI_API_KEY'])"
   ]
  },
  {
   "cell_type": "code",
   "execution_count": 48,
   "id": "b87f78ee-6fb1-4075-a059-19e29c40461d",
   "metadata": {
    "tags": []
   },
   "outputs": [
    {
     "name": "stdout",
     "output_type": "stream",
     "text": [
      "Collecting pinecone_text\n",
      "  Downloading pinecone_text-0.4.2-py3-none-any.whl (17 kB)\n",
      "Requirement already satisfied: nltk<4.0.0,>=3.6.5 in /Users/stephanegarti/.local/share/virtualenvs/ai-repo-reader-dkZZLFMT/lib/python3.10/site-packages (from pinecone_text) (3.8.1)\n",
      "Collecting mmh3<4.0.0,>=3.1.0\n",
      "  Downloading mmh3-3.1.0-cp310-cp310-macosx_10_9_x86_64.whl (12 kB)\n",
      "Collecting torch<2.0.0,>=1.13.1\n",
      "  Downloading torch-1.13.1-cp310-none-macosx_10_9_x86_64.whl (135.3 MB)\n",
      "\u001b[2K     \u001b[38;2;114;156;31m━━━━━━━━━━━━━━━━━━━━━━━━━━━━━━━━━━━━━━━\u001b[0m \u001b[32m135.3/135.3 MB\u001b[0m \u001b[31m1.4 MB/s\u001b[0m eta \u001b[36m0:00:00\u001b[0mm eta \u001b[36m0:00:01\u001b[0m[36m0:00:03\u001b[0m\n",
      "\u001b[?25hCollecting wget<4.0,>=3.2\n",
      "  Downloading wget-3.2.zip (10 kB)\n",
      "  Preparing metadata (setup.py) ... \u001b[?25ldone\n",
      "\u001b[?25hRequirement already satisfied: sentence-transformers<3.0.0,>=2.0.0 in /Users/stephanegarti/.local/share/virtualenvs/ai-repo-reader-dkZZLFMT/lib/python3.10/site-packages (from pinecone_text) (2.2.2)\n",
      "Requirement already satisfied: transformers<5.0.0,>=4.26.1 in /Users/stephanegarti/.local/share/virtualenvs/ai-repo-reader-dkZZLFMT/lib/python3.10/site-packages (from pinecone_text) (4.28.1)\n",
      "Requirement already satisfied: tqdm in /Users/stephanegarti/.local/share/virtualenvs/ai-repo-reader-dkZZLFMT/lib/python3.10/site-packages (from nltk<4.0.0,>=3.6.5->pinecone_text) (4.65.0)\n",
      "Requirement already satisfied: click in /Users/stephanegarti/.local/share/virtualenvs/ai-repo-reader-dkZZLFMT/lib/python3.10/site-packages (from nltk<4.0.0,>=3.6.5->pinecone_text) (8.1.3)\n",
      "Requirement already satisfied: regex>=2021.8.3 in /Users/stephanegarti/.local/share/virtualenvs/ai-repo-reader-dkZZLFMT/lib/python3.10/site-packages (from nltk<4.0.0,>=3.6.5->pinecone_text) (2023.3.23)\n",
      "Requirement already satisfied: joblib in /Users/stephanegarti/.local/share/virtualenvs/ai-repo-reader-dkZZLFMT/lib/python3.10/site-packages (from nltk<4.0.0,>=3.6.5->pinecone_text) (1.2.0)\n",
      "Requirement already satisfied: numpy in /Users/stephanegarti/.local/share/virtualenvs/ai-repo-reader-dkZZLFMT/lib/python3.10/site-packages (from sentence-transformers<3.0.0,>=2.0.0->pinecone_text) (1.23.5)\n",
      "Requirement already satisfied: sentencepiece in /Users/stephanegarti/.local/share/virtualenvs/ai-repo-reader-dkZZLFMT/lib/python3.10/site-packages (from sentence-transformers<3.0.0,>=2.0.0->pinecone_text) (0.1.98)\n",
      "Requirement already satisfied: torchvision in /Users/stephanegarti/.local/share/virtualenvs/ai-repo-reader-dkZZLFMT/lib/python3.10/site-packages (from sentence-transformers<3.0.0,>=2.0.0->pinecone_text) (0.15.1)\n",
      "Requirement already satisfied: huggingface-hub>=0.4.0 in /Users/stephanegarti/.local/share/virtualenvs/ai-repo-reader-dkZZLFMT/lib/python3.10/site-packages (from sentence-transformers<3.0.0,>=2.0.0->pinecone_text) (0.13.4)\n",
      "Requirement already satisfied: scikit-learn in /Users/stephanegarti/.local/share/virtualenvs/ai-repo-reader-dkZZLFMT/lib/python3.10/site-packages (from sentence-transformers<3.0.0,>=2.0.0->pinecone_text) (1.2.2)\n",
      "Requirement already satisfied: scipy in /Users/stephanegarti/.local/share/virtualenvs/ai-repo-reader-dkZZLFMT/lib/python3.10/site-packages (from sentence-transformers<3.0.0,>=2.0.0->pinecone_text) (1.10.1)\n",
      "Requirement already satisfied: typing-extensions in /Users/stephanegarti/.local/share/virtualenvs/ai-repo-reader-dkZZLFMT/lib/python3.10/site-packages (from torch<2.0.0,>=1.13.1->pinecone_text) (4.5.0)\n",
      "Requirement already satisfied: requests in /Users/stephanegarti/.local/share/virtualenvs/ai-repo-reader-dkZZLFMT/lib/python3.10/site-packages (from transformers<5.0.0,>=4.26.1->pinecone_text) (2.28.2)\n",
      "Requirement already satisfied: packaging>=20.0 in /Users/stephanegarti/.local/share/virtualenvs/ai-repo-reader-dkZZLFMT/lib/python3.10/site-packages (from transformers<5.0.0,>=4.26.1->pinecone_text) (23.1)\n",
      "Requirement already satisfied: pyyaml>=5.1 in /Users/stephanegarti/.local/share/virtualenvs/ai-repo-reader-dkZZLFMT/lib/python3.10/site-packages (from transformers<5.0.0,>=4.26.1->pinecone_text) (6.0)\n",
      "Requirement already satisfied: filelock in /Users/stephanegarti/.local/share/virtualenvs/ai-repo-reader-dkZZLFMT/lib/python3.10/site-packages (from transformers<5.0.0,>=4.26.1->pinecone_text) (3.11.0)\n",
      "Requirement already satisfied: tokenizers!=0.11.3,<0.14,>=0.11.1 in /Users/stephanegarti/.local/share/virtualenvs/ai-repo-reader-dkZZLFMT/lib/python3.10/site-packages (from transformers<5.0.0,>=4.26.1->pinecone_text) (0.13.3)\n",
      "Requirement already satisfied: urllib3<1.27,>=1.21.1 in /Users/stephanegarti/.local/share/virtualenvs/ai-repo-reader-dkZZLFMT/lib/python3.10/site-packages (from requests->transformers<5.0.0,>=4.26.1->pinecone_text) (1.26.15)\n",
      "Requirement already satisfied: charset-normalizer<4,>=2 in /Users/stephanegarti/.local/share/virtualenvs/ai-repo-reader-dkZZLFMT/lib/python3.10/site-packages (from requests->transformers<5.0.0,>=4.26.1->pinecone_text) (3.1.0)\n",
      "Requirement already satisfied: idna<4,>=2.5 in /Users/stephanegarti/.local/share/virtualenvs/ai-repo-reader-dkZZLFMT/lib/python3.10/site-packages (from requests->transformers<5.0.0,>=4.26.1->pinecone_text) (3.4)\n",
      "Requirement already satisfied: certifi>=2017.4.17 in /Users/stephanegarti/.local/share/virtualenvs/ai-repo-reader-dkZZLFMT/lib/python3.10/site-packages (from requests->transformers<5.0.0,>=4.26.1->pinecone_text) (2022.12.7)\n",
      "Requirement already satisfied: threadpoolctl>=2.0.0 in /Users/stephanegarti/.local/share/virtualenvs/ai-repo-reader-dkZZLFMT/lib/python3.10/site-packages (from scikit-learn->sentence-transformers<3.0.0,>=2.0.0->pinecone_text) (3.1.0)\n",
      "Collecting torchvision\n",
      "  Downloading torchvision-0.14.1-cp310-cp310-macosx_10_9_x86_64.whl (1.4 MB)\n",
      "\u001b[2K     \u001b[38;2;114;156;31m━━━━━━━━━━━━━━━━━━━━━━━━━━━━━━━━━━━━━━━━\u001b[0m \u001b[32m1.4/1.4 MB\u001b[0m \u001b[31m1.4 MB/s\u001b[0m eta \u001b[36m0:00:00\u001b[0m[36m0:00:01\u001b[0mm eta \u001b[36m0:00:01\u001b[0m\n",
      "\u001b[?25hRequirement already satisfied: pillow!=8.3.*,>=5.3.0 in /Users/stephanegarti/.local/share/virtualenvs/ai-repo-reader-dkZZLFMT/lib/python3.10/site-packages (from torchvision->sentence-transformers<3.0.0,>=2.0.0->pinecone_text) (9.5.0)\n",
      "Building wheels for collected packages: wget\n",
      "  Building wheel for wget (setup.py) ... \u001b[?25ldone\n",
      "\u001b[?25h  Created wheel for wget: filename=wget-3.2-py3-none-any.whl size=9657 sha256=d561b24677065afac6c24e9180810b699f46d8044e213cd01e72723f3ab5cc3a\n",
      "  Stored in directory: /Users/stephanegarti/Library/Caches/pip/wheels/46/78/0e/8e5e2b500f83a682c8d7e7ce820638cf99faa894a662f71cf0\n",
      "Successfully built wget\n",
      "Installing collected packages: wget, mmh3, torch, torchvision, pinecone_text\n",
      "  Attempting uninstall: torch\n",
      "    Found existing installation: torch 2.0.0\n",
      "    Uninstalling torch-2.0.0:\n",
      "      Successfully uninstalled torch-2.0.0\n",
      "  Attempting uninstall: torchvision\n",
      "    Found existing installation: torchvision 0.15.1\n",
      "    Uninstalling torchvision-0.15.1:\n",
      "      Successfully uninstalled torchvision-0.15.1\n",
      "Successfully installed mmh3-3.1.0 pinecone_text-0.4.2 torch-1.13.1 torchvision-0.14.1 wget-3.2\n"
     ]
    }
   ],
   "source": [
    "!pip install pinecone_text"
   ]
  },
  {
   "cell_type": "code",
   "execution_count": 104,
   "id": "ba4c2e51-bd89-4e25-adbf-8456554867cb",
   "metadata": {
    "tags": []
   },
   "outputs": [
    {
     "name": "stdout",
     "output_type": "stream",
     "text": [
      "100% [........................................................................] 65406227 / 65406227"
     ]
    }
   ],
   "source": [
    "from pinecone_text.sparse import BM25Encoder\n",
    "# or from pinecone_text.sparse import SpladeEncoder if you wish to work with SPLADE\n",
    "# use default tf-idf values\n",
    "bm25_encoder = BM25Encoder().default()"
   ]
  },
  {
   "cell_type": "code",
   "execution_count": 105,
   "id": "2eb78fa6-dc7d-45a1-8892-c8d2bdc70795",
   "metadata": {
    "tags": []
   },
   "outputs": [
    {
     "data": {
      "application/vnd.jupyter.widget-view+json": {
       "model_id": "c0599c03cc834c3a8065872f055ab854",
       "version_major": 2,
       "version_minor": 0
      },
      "text/plain": [
       "  0%|          | 0/17 [00:00<?, ?it/s]"
      ]
     },
     "metadata": {},
     "output_type": "display_data"
    }
   ],
   "source": [
    "corpus = [t.page_content for t in texts]\n",
    "\n",
    "# fit tf-idf values on your corpus\n",
    "bm25_encoder.fit(corpus)\n",
    "\n",
    "# store the values to a json file\n",
    "bm25_encoder.dump(\"bm25_values.json\")\n",
    "\n",
    "# load to your BM25Encoder object\n",
    "bm25_encoder = BM25Encoder().load(\"bm25_values.json\")"
   ]
  },
  {
   "cell_type": "markdown",
   "id": "d90a828f-7cef-4f8c-9f43-6adb4767d19e",
   "metadata": {},
   "source": [
    "## Load Retriever"
   ]
  },
  {
   "cell_type": "code",
   "execution_count": 106,
   "id": "9b603a63-0a8f-41f9-89d4-a8268b609a59",
   "metadata": {
    "tags": []
   },
   "outputs": [],
   "source": [
    "from langchain.retrievers import PineconeHybridSearchRetriever\n",
    "retriever = PineconeHybridSearchRetriever(embeddings=embeddings, sparse_encoder=bm25_encoder, index=index)"
   ]
  },
  {
   "cell_type": "code",
   "execution_count": 107,
   "id": "92c0a638-7405-4e8d-991f-ef1b4efd79ea",
   "metadata": {
    "tags": []
   },
   "outputs": [
    {
     "data": {
      "application/vnd.jupyter.widget-view+json": {
       "model_id": "b45dc3e682a945bfa165c6b0fe7abead",
       "version_major": 2,
       "version_minor": 0
      },
      "text/plain": [
       "  0%|          | 0/1 [00:00<?, ?it/s]"
      ]
     },
     "metadata": {},
     "output_type": "display_data"
    }
   ],
   "source": [
    "retriever.add_texts(corpus)"
   ]
  },
  {
   "cell_type": "markdown",
   "id": "a2183dc7-ef78-4767-a6e9-577201bf76a7",
   "metadata": {},
   "source": [
    "## Use Retriever"
   ]
  },
  {
   "cell_type": "code",
   "execution_count": 108,
   "id": "553c08dc-ce63-406f-ac8f-e207b2c5ea57",
   "metadata": {
    "tags": []
   },
   "outputs": [],
   "source": [
    "result = retriever.get_relevant_documents(\"Where is frequency measured?\")"
   ]
  },
  {
   "cell_type": "code",
   "execution_count": 109,
   "id": "184d95f9-c918-4960-a997-f61c2d85e519",
   "metadata": {
    "tags": []
   },
   "outputs": [
    {
     "name": "stdout",
     "output_type": "stream",
     "text": [
      "AudioKit.stop()\n",
      "    timer?.pause()\n",
      "  }\n",
      "  \n",
      "  /**\n",
      "   Exponential smoothing:\n",
      "   https://en.wikipedia.org/wiki/Exponential_smoothing\n",
      "  */\n",
      "  fileprivate func smooth(_ value: Double) -> Double {\n",
      "    var frequency = value\n",
      "    if smoothingBuffer.count > 0 {\n",
      "      let last = smoothingBuffer.last!\n",
      "      frequency = (smoothing * value) + (1.0 - smoothing) * last\n",
      "      if smoothingBuffer.count > smoothingBufferCount {\n",
      "        smoothingBuffer.removeFirst()\n",
      "      }\n",
      "    }\n",
      "    smoothingBuffer.append(frequency)\n",
      "    return frequency\n",
      "  }\n",
      "  \n",
      "  static func newOutput(_ frequency: Double, _ amplitude: Double) -> TunerOutput {\n",
      "    let output = TunerOutput()\n",
      "    \n",
      "    var norm = frequency\n",
      "    while norm > frequencies[frequencies.count - 1] {\n",
      "      norm = norm / 2.0\n",
      "    }\n",
      "    while norm < frequencies[0] {\n",
      "      norm = norm * 2.0\n",
      "    }\n",
      "    \n",
      "    var i = -1\n",
      "    var min = Double.infinity\n",
      "    for n in 0...frequencies.count-1 {\n",
      "      let diff = frequencies[n] - norm\n",
      "      if abs(diff) < abs(min) {\n"
     ]
    }
   ],
   "source": [
    "print(result[0].page_content)"
   ]
  },
  {
   "cell_type": "code",
   "execution_count": 110,
   "id": "3e7aaae9-73f3-4111-9b9d-d93dac1bae65",
   "metadata": {
    "tags": []
   },
   "outputs": [],
   "source": [
    "result = retriever.get_relevant_documents(\"Where is AudioKit instance used?\")"
   ]
  },
  {
   "cell_type": "code",
   "execution_count": 111,
   "id": "54fec7bc-5825-44c1-b309-fa845caf6a65",
   "metadata": {
    "tags": []
   },
   "outputs": [
    {
     "name": "stdout",
     "output_type": "stream",
     "text": [
      "// MARK:- Imports\n",
      "\n",
      "import AudioKit\n",
      "import Chronos\n",
      "\n",
      "\n",
      "// MARK:- Constants\n"
     ]
    }
   ],
   "source": [
    "print(result[0].page_content)"
   ]
  },
  {
   "cell_type": "code",
   "execution_count": 112,
   "id": "8e12cdf9-d303-4efc-8854-d014383b338a",
   "metadata": {
    "tags": []
   },
   "outputs": [
    {
     "name": "stdout",
     "output_type": "stream",
     "text": [
      "/**\n",
      "A Tuner uses the devices microphone and interprets the frequency, pitch, etc.\n",
      "*/\n",
      "@objc public class Tuner: NSObject {\n",
      "  \n",
      "  fileprivate let updateInterval: TimeInterval = 0.03\n",
      "  fileprivate let smoothingBufferCount = 30\n",
      "    \n",
      "  /**\n",
      "  Object adopting the TunerDelegate protocol that should receive callbacks\n",
      "  from this tuner.\n",
      "  */\n",
      "  public var delegate: TunerDelegate?\n",
      "  \n",
      "  fileprivate let threshold: Double\n",
      "  fileprivate let smoothing: Double\n",
      "  fileprivate let microphone: AKMicrophone\n",
      "  fileprivate let tracker: AKFrequencyTracker\n",
      "  fileprivate let silence: AKBooster\n",
      "  fileprivate var timer: DispatchTimer?\n",
      "  fileprivate var smoothingBuffer: [Double] = []\n",
      "  \n",
      "  /**\n",
      "  Initializes a new Tuner.\n",
      "  \n",
      "   - parameter threshold: The minimum amplitude to recognize, 0 < threshold < 1\n",
      "   - parameter smoothing: Exponential smoothing factor, 0 < smoothing < 1\n",
      "   \n",
      "  */\n",
      "  public init(threshold: Float = 0.0, smoothing: Float = 0.25) {\n",
      "    self.threshold = Double(min(abs(threshold), 1.0))\n"
     ]
    }
   ],
   "source": [
    "print(result[1].page_content)"
   ]
  },
  {
   "cell_type": "code",
   "execution_count": null,
   "id": "b491df50-b68c-45e3-a302-aab30752dbeb",
   "metadata": {},
   "outputs": [],
   "source": []
  }
 ],
 "metadata": {
  "kernelspec": {
   "display_name": "Python 3 (ipykernel)",
   "language": "python",
   "name": "python3"
  },
  "language_info": {
   "codemirror_mode": {
    "name": "ipython",
    "version": 3
   },
   "file_extension": ".py",
   "mimetype": "text/x-python",
   "name": "python",
   "nbconvert_exporter": "python",
   "pygments_lexer": "ipython3",
   "version": "3.10.9"
  }
 },
 "nbformat": 4,
 "nbformat_minor": 5
}
