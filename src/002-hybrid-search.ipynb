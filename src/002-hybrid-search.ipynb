{
 "cells": [
  {
   "cell_type": "markdown",
   "id": "a68d35b0-fea5-49af-8b0a-7aed7a1bd39a",
   "metadata": {},
   "source": [
    "# Hybrid search\n",
    "- What is Hybrid Search?\n",
    "    - Hybrid search is about perform semantic and keyword search over the data in one query and combine the results for more relevant results.\n",
    "    - Here is the workflow :\n",
    "        - Create dense vectors using an external embedding model.\n",
    "        - Create sparse vectors using an external model.\n",
    "        - Create an index that supports sparse-dense vectors (s1 or p1 with the dotproduct metric).\n",
    "        - Upsert dense and sparse vectors to your index.\n",
    "        - Search the index using sparse-dense vectors.\n",
    "        - Pinecone returns sparse-dense vectors.\n",
    "        \n",
    "### Read further\n",
    "- https://python.langchain.com/en/latest/modules/indexes/retrievers/examples/pinecone_hybrid_search.html\n",
    "- https://docs.pinecone.io/docs/hybrid-search"
   ]
  },
  {
   "cell_type": "markdown",
   "id": "92ffdfda",
   "metadata": {},
   "source": [
    "## Prepare environment"
   ]
  },
  {
   "cell_type": "code",
   "execution_count": null,
   "id": "7f9c7468",
   "metadata": {},
   "outputs": [],
   "source": [
    "%pip install python-dotenv"
   ]
  },
  {
   "cell_type": "code",
   "execution_count": 23,
   "id": "3e269b0c",
   "metadata": {},
   "outputs": [],
   "source": [
    "import os\n",
    "from pathlib import Path\n",
    "path_dir_script = Path(os.getcwd())\n",
    "path_dir_root = path_dir_script.parent"
   ]
  },
  {
   "cell_type": "code",
   "execution_count": null,
   "id": "0d5e3f51",
   "metadata": {},
   "outputs": [
    {
     "data": {
      "text/plain": [
       "True"
      ]
     },
     "metadata": {},
     "output_type": "display_data"
    }
   ],
   "source": [
    "from dotenv import load_dotenv, find_dotenv\n",
    "path_file_dotenv = Path(path_dir_root, '.env')\n",
    "load_dotenv(path_file_dotenv)"
   ]
  },
  {
   "cell_type": "markdown",
   "id": "d7cd8f9b-1f76-4442-9dcc-f84287e20880",
   "metadata": {
    "tags": []
   },
   "source": [
    "## Load data"
   ]
  },
  {
   "cell_type": "code",
   "execution_count": null,
   "id": "7dcb1354-159c-4838-a333-a75d09b8c432",
   "metadata": {
    "tags": []
   },
   "outputs": [],
   "source": [
    "!pip install GitPython"
   ]
  },
  {
   "cell_type": "code",
   "execution_count": null,
   "id": "f228e008-de3f-47bc-82dc-2859e7bb5124",
   "metadata": {
    "tags": []
   },
   "outputs": [],
   "source": [
    "from langchain.document_loaders import GitLoader # https://python.langchain.com/en/latest/modules/indexes/document_loaders/examples/git.html\n",
    "import os"
   ]
  },
  {
   "cell_type": "code",
   "execution_count": null,
   "id": "4163f722-af58-45cd-93f3-e0127613ddfc",
   "metadata": {
    "tags": []
   },
   "outputs": [],
   "source": [
    "loader = GitLoader(\n",
    "    repo_path=os.environ['PATH_CODE_REPO_1'],\n",
    "    branch=\"master\", \n",
    "    file_filter=lambda file_path: file_path.endswith(\".swift\") or file_path.endswith(\".h\") or file_path.endswith(\".m\")\n",
    ")"
   ]
  },
  {
   "cell_type": "code",
   "execution_count": null,
   "id": "6295f696-080f-4c29-8a5f-5f24801fa03d",
   "metadata": {
    "tags": []
   },
   "outputs": [],
   "source": [
    "data = loader.load()"
   ]
  },
  {
   "cell_type": "code",
   "execution_count": null,
   "id": "2b1a61fd-c758-4a38-b2d4-187d142af724",
   "metadata": {
    "tags": []
   },
   "outputs": [],
   "source": [
    "len(data)"
   ]
  },
  {
   "cell_type": "markdown",
   "id": "3125b973-0a58-4641-b653-2f5d762b5d53",
   "metadata": {},
   "source": [
    "## Split text"
   ]
  },
  {
   "cell_type": "code",
   "execution_count": null,
   "id": "2e1662f1-fc62-4ad4-b092-e323182e5dca",
   "metadata": {
    "tags": []
   },
   "outputs": [],
   "source": [
    "from langchain.text_splitter import RecursiveCharacterTextSplitter\n",
    "\n",
    "def split_docs(documents, chunk_size=1000, chunk_overlap=20):\n",
    "  text_splitter = RecursiveCharacterTextSplitter(chunk_size=chunk_size, chunk_overlap=chunk_overlap)\n",
    "  texts = text_splitter.split_documents(documents)\n",
    "  return texts\n",
    "\n",
    "texts = split_docs(data)\n",
    "print(len(texts))"
   ]
  },
  {
   "cell_type": "markdown",
   "id": "773b305a-dfc2-4016-bcca-2164484e33e7",
   "metadata": {},
   "source": [
    "## Create index"
   ]
  },
  {
   "cell_type": "code",
   "execution_count": null,
   "id": "85204205-0d0b-4950-8f7e-184654be0dfa",
   "metadata": {
    "tags": []
   },
   "outputs": [],
   "source": [
    "import pinecone"
   ]
  },
  {
   "cell_type": "code",
   "execution_count": null,
   "id": "23e5cb62-1b4d-4f1e-a6cc-2ddf07e7de42",
   "metadata": {
    "tags": []
   },
   "outputs": [],
   "source": [
    "pinecone.init(\n",
    "    api_key=os.getenv('PINECODE_API_KEY'),\n",
    "    environment=os.getenv('PINECODE_ENVIRONMENT')\n",
    ")"
   ]
  },
  {
   "cell_type": "code",
   "execution_count": null,
   "id": "ccaebe67-1d71-4e96-b552-ea8643e2fb1c",
   "metadata": {
    "tags": []
   },
   "outputs": [],
   "source": [
    "# Check existing indexes\n",
    "print(pinecone.list_indexes())"
   ]
  },
  {
   "cell_type": "code",
   "execution_count": null,
   "id": "7751d999-7db6-42a5-addc-eaff6f032a93",
   "metadata": {
    "tags": []
   },
   "outputs": [],
   "source": [
    "index_name = \"ai-repo-reader-1\""
   ]
  },
  {
   "cell_type": "code",
   "execution_count": null,
   "id": "57567011-7a64-40ac-80b6-48f6a226dc95",
   "metadata": {},
   "outputs": [],
   "source": [
    "# Clean up previous index before creating new one\n",
    "pinecone.delete_index(index_name)"
   ]
  },
  {
   "cell_type": "code",
   "execution_count": null,
   "id": "8d71b611-289f-4f7a-ad32-18cc003e60f5",
   "metadata": {},
   "outputs": [],
   "source": [
    "# Note: it’s important to make sure that the “context” field that holds the document text in the metadata is not indexed. \n",
    "# Currently you need to specify explicitly the fields you do want to index. For more information checkout Pinecone’s docs.\n",
    "pinecone.create_index(\n",
    "    name = index_name, \n",
    "    dimension = 1536, # dimensionality of dense model\n",
    "    metric = \"dotproduct\", # sparse vqlues supported only for dotproduct\n",
    "    pod_type = \"s1\",\n",
    "    metadata_config={\"indexed\": []}\n",
    ")"
   ]
  },
  {
   "cell_type": "code",
   "execution_count": null,
   "id": "0ae4b241-8063-4374-b983-498f6261c576",
   "metadata": {
    "tags": []
   },
   "outputs": [],
   "source": [
    "index = pinecone.Index(index_name)"
   ]
  },
  {
   "cell_type": "markdown",
   "id": "817d13f6-4ba0-4127-9884-00683f075c0c",
   "metadata": {
    "tags": []
   },
   "source": [
    "## Get embeddings"
   ]
  },
  {
   "cell_type": "code",
   "execution_count": null,
   "id": "8452160b-9685-445d-a255-d97ff9d1eb95",
   "metadata": {
    "tags": []
   },
   "outputs": [],
   "source": [
    "import os\n",
    "from langchain.embeddings import OpenAIEmbeddings"
   ]
  },
  {
   "cell_type": "code",
   "execution_count": null,
   "id": "86192584-8831-4b59-abda-19375882d249",
   "metadata": {
    "tags": []
   },
   "outputs": [],
   "source": [
    "embeddings = OpenAIEmbeddings(openai_api_key=os.environ['OPENAI_API_KEY'])"
   ]
  },
  {
   "cell_type": "code",
   "execution_count": null,
   "id": "b87f78ee-6fb1-4075-a059-19e29c40461d",
   "metadata": {
    "tags": []
   },
   "outputs": [],
   "source": [
    "!pip install pinecone_text"
   ]
  },
  {
   "cell_type": "code",
   "execution_count": null,
   "id": "ba4c2e51-bd89-4e25-adbf-8456554867cb",
   "metadata": {
    "tags": []
   },
   "outputs": [],
   "source": [
    "from pinecone_text.sparse import BM25Encoder\n",
    "# or from pinecone_text.sparse import SpladeEncoder if you wish to work with SPLADE\n",
    "# use default tf-idf values\n",
    "bm25_encoder = BM25Encoder().default()"
   ]
  },
  {
   "cell_type": "code",
   "execution_count": null,
   "id": "2eb78fa6-dc7d-45a1-8892-c8d2bdc70795",
   "metadata": {
    "tags": []
   },
   "outputs": [],
   "source": [
    "corpus = [t.page_content for t in texts]\n",
    "\n",
    "# fit tf-idf values on your corpus\n",
    "bm25_encoder.fit(corpus)\n",
    "\n",
    "# store the values to a json file\n",
    "bm25_encoder.dump(\"bm25_values.json\")\n",
    "\n",
    "# load to your BM25Encoder object\n",
    "bm25_encoder = BM25Encoder().load(\"bm25_values.json\")"
   ]
  },
  {
   "cell_type": "markdown",
   "id": "d90a828f-7cef-4f8c-9f43-6adb4767d19e",
   "metadata": {},
   "source": [
    "## Load Retriever"
   ]
  },
  {
   "cell_type": "code",
   "execution_count": null,
   "id": "9b603a63-0a8f-41f9-89d4-a8268b609a59",
   "metadata": {
    "tags": []
   },
   "outputs": [],
   "source": [
    "from langchain.retrievers import PineconeHybridSearchRetriever\n",
    "retriever = PineconeHybridSearchRetriever(embeddings=embeddings, sparse_encoder=bm25_encoder, index=index)"
   ]
  },
  {
   "cell_type": "code",
   "execution_count": null,
   "id": "92c0a638-7405-4e8d-991f-ef1b4efd79ea",
   "metadata": {
    "tags": []
   },
   "outputs": [],
   "source": [
    "retriever.add_texts(corpus)"
   ]
  },
  {
   "cell_type": "markdown",
   "id": "a2183dc7-ef78-4767-a6e9-577201bf76a7",
   "metadata": {},
   "source": [
    "## Use Retriever"
   ]
  },
  {
   "cell_type": "code",
   "execution_count": null,
   "id": "553c08dc-ce63-406f-ac8f-e207b2c5ea57",
   "metadata": {
    "tags": []
   },
   "outputs": [],
   "source": [
    "result = retriever.get_relevant_documents(\"Where is frequency measured?\")"
   ]
  },
  {
   "cell_type": "code",
   "execution_count": null,
   "id": "184d95f9-c918-4960-a997-f61c2d85e519",
   "metadata": {
    "tags": []
   },
   "outputs": [],
   "source": [
    "print(result[0].page_content)"
   ]
  },
  {
   "cell_type": "code",
   "execution_count": null,
   "id": "3e7aaae9-73f3-4111-9b9d-d93dac1bae65",
   "metadata": {
    "tags": []
   },
   "outputs": [],
   "source": [
    "result = retriever.get_relevant_documents(\"Where is AudioKit instance used?\")"
   ]
  },
  {
   "cell_type": "code",
   "execution_count": null,
   "id": "54fec7bc-5825-44c1-b309-fa845caf6a65",
   "metadata": {
    "tags": []
   },
   "outputs": [],
   "source": [
    "print(result[0].page_content)"
   ]
  },
  {
   "cell_type": "code",
   "execution_count": null,
   "id": "8e12cdf9-d303-4efc-8854-d014383b338a",
   "metadata": {
    "tags": []
   },
   "outputs": [],
   "source": [
    "print(result[1].page_content)"
   ]
  },
  {
   "cell_type": "code",
   "execution_count": null,
   "id": "b491df50-b68c-45e3-a302-aab30752dbeb",
   "metadata": {},
   "outputs": [],
   "source": []
  }
 ],
 "metadata": {
  "kernelspec": {
   "display_name": "Python 3 (ipykernel)",
   "language": "python",
   "name": "python3"
  },
  "language_info": {
   "codemirror_mode": {
    "name": "ipython",
    "version": 3
   },
   "file_extension": ".py",
   "mimetype": "text/x-python",
   "name": "python",
   "nbconvert_exporter": "python",
   "pygments_lexer": "ipython3",
   "version": "3.10.9"
  }
 },
 "nbformat": 4,
 "nbformat_minor": 5
}
